{
 "cells": [
  {
   "cell_type": "code",
   "execution_count": 21,
   "metadata": {},
   "outputs": [],
   "source": [
    "from  itertools import permutations\n",
    "from weighted_quantile import weighted_quantile\n",
    "import pickle\n",
    "import numpy as np\n",
    "\n",
    "def generate_results(a,func,results):\n",
    "    \n",
    "    interpolation_list = ['lower','higher','midpoint','nearest','linear']\n",
    "    np.random.seed(0)\n",
    "    w = np.random.rand(a.size).reshape(a.shape)    \n",
    "    np.random.seed(0)\n",
    "    q_list = [1e-3,0.5,0.99,1,np.random.rand(10)]\n",
    "    \n",
    "    axis_list = [None,0,-1]\n",
    "    boolean = [True,False]\n",
    "\n",
    "    for interpolation in interpolation_list:\n",
    "        for q in q_list:\n",
    "            for axis in axis_list:\n",
    "                for overwrite_input in boolean:\n",
    "                    for keepdims in boolean:\n",
    "                        r = func(a, q, w, axis=axis, out=None, overwrite_input=overwrite_input,\n",
    "                                 interpolation=interpolation, keepdims=keepdims)\n",
    "                        results.append(r)"
   ]
  },
  {
   "cell_type": "code",
   "execution_count": 22,
   "metadata": {},
   "outputs": [],
   "source": [
    "import csv\n",
    "with open(\"HIGGS.csv\",\"r\") as f:\n",
    "    reader = csv.reader(f)\n",
    "    results = []\n",
    "    for i,row in enumerate(reader):\n",
    "        a = np.asanyarray(row).astype(np.float64)\n",
    "        generate_results(a,weighted_quantile,results)\n",
    "        if i==1000:\n",
    "            break"
   ]
  },
  {
   "cell_type": "code",
   "execution_count": null,
   "metadata": {},
   "outputs": [],
   "source": [
    "import pickle\n",
    "with open(\"answer.pkl\",\"wb\") as f:\n",
    "    pickle.dump(results,f)"
   ]
  },
  {
   "cell_type": "code",
   "execution_count": null,
   "metadata": {},
   "outputs": [],
   "source": []
  }
 ],
 "metadata": {
  "kernelspec": {
   "display_name": "Python 3",
   "language": "python",
   "name": "python3"
  },
  "language_info": {
   "codemirror_mode": {
    "name": "ipython",
    "version": 3
   },
   "file_extension": ".py",
   "mimetype": "text/x-python",
   "name": "python",
   "nbconvert_exporter": "python",
   "pygments_lexer": "ipython3",
   "version": "3.7.6"
  }
 },
 "nbformat": 4,
 "nbformat_minor": 4
}
